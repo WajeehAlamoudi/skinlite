{
 "cells": [
  {
   "cell_type": "code",
   "id": "initial_id",
   "metadata": {
    "collapsed": true,
    "ExecuteTime": {
     "end_time": "2025-04-24T07:34:30.969764Z",
     "start_time": "2025-04-24T07:34:30.966782Z"
    }
   },
   "source": [
    "import os\n",
    "\n",
    "import pandas as pd\n",
    "\n",
    "DATASET_PATH = r\"C:\\Users\\wajee\\PycharmProjects\\Derma-Classification\\dataset\"\n",
    "TRAIN_IMG_DIR = os.path.join(DATASET_PATH, \"images/train\")\n",
    "TEST_IMG_DIR = os.path.join(DATASET_PATH, \"images/test\")\n",
    "VAL_IMG_DIR = os.path.join(DATASET_PATH, \"images/val\")\n",
    "TRAIN_LABELS_DIR = os.path.join(DATASET_PATH, \"labels/ISIC2018_Task3_Training_GroundTruth.csv\")\n",
    "TEST_LABELS_DIR = os.path.join(DATASET_PATH, \"labels/ISIC2018_Task3_Test_GroundTruth.csv\")\n",
    "VAL_LABELS_DIR = os.path.join(DATASET_PATH, \"labels/ISIC2018_Task3_Validation_GroundTruth.csv\")"
   ],
   "outputs": [],
   "execution_count": 3
  },
  {
   "metadata": {
    "ExecuteTime": {
     "end_time": "2025-04-24T07:34:31.836278Z",
     "start_time": "2025-04-24T07:34:31.807270Z"
    }
   },
   "cell_type": "code",
   "source": [
    "df = pd.read_csv(TRAIN_LABELS_DIR)\n",
    "print(df.head())\n",
    "print(\"\\nLabel columns:\", [col for col in df.columns if col != 'image'])\n",
    "print(\"Total samples:\", len(df))"
   ],
   "id": "4c4dfc8ad99a5a6f",
   "outputs": [
    {
     "name": "stdout",
     "output_type": "stream",
     "text": [
      "          image  MEL   NV  BCC  AKIEC  BKL   DF  VASC\n",
      "0  ISIC_0024306  0.0  1.0  0.0    0.0  0.0  0.0   0.0\n",
      "1  ISIC_0024307  0.0  1.0  0.0    0.0  0.0  0.0   0.0\n",
      "2  ISIC_0024308  0.0  1.0  0.0    0.0  0.0  0.0   0.0\n",
      "3  ISIC_0024309  0.0  1.0  0.0    0.0  0.0  0.0   0.0\n",
      "4  ISIC_0024310  1.0  0.0  0.0    0.0  0.0  0.0   0.0\n",
      "\n",
      "Label columns: ['MEL', 'NV', 'BCC', 'AKIEC', 'BKL', 'DF', 'VASC']\n",
      "Total samples: 10015\n"
     ]
    }
   ],
   "execution_count": 4
  },
  {
   "metadata": {
    "ExecuteTime": {
     "end_time": "2025-04-24T07:34:33.059442Z",
     "start_time": "2025-04-24T07:34:33.053903Z"
    }
   },
   "cell_type": "code",
   "source": [
    "import os\n",
    "import pandas as pd\n",
    "from PIL import Image\n",
    "from torch.utils.data import Dataset, DataLoader\n",
    "from torchvision import transforms\n",
    "\n",
    "# === Constants ===\n",
    "CLASS_NAMES = ['MEL', 'NV', 'BCC', 'AKIEC', 'BKL', 'DF', 'VASC']\n",
    "LABEL_MAP = {name: idx for idx, name in enumerate(CLASS_NAMES)}\n",
    "\n",
    "# === Dataset Class ===\n",
    "class ISICDataset(Dataset):\n",
    "    def __init__(self, csv_path, img_dir, transform=None):\n",
    "        self.data = pd.read_csv(csv_path)\n",
    "        self.img_dir = img_dir\n",
    "        self.transform = transform\n",
    "\n",
    "        self.samples = []\n",
    "        for _, row in self.data.iterrows():\n",
    "            image_id = row['image']\n",
    "            label_name = row[CLASS_NAMES].astype(int).idxmax()\n",
    "            label = LABEL_MAP[label_name]\n",
    "            self.samples.append((f\"{image_id}.jpg\", label))\n",
    "\n",
    "    def __len__(self):\n",
    "        return len(self.samples)\n",
    "\n",
    "    def __getitem__(self, idx):\n",
    "        img_name, label = self.samples[idx]\n",
    "        img_path = os.path.join(self.img_dir, img_name)\n",
    "        image = Image.open(img_path).convert(\"RGB\")\n",
    "        if self.transform:\n",
    "            image = self.transform(image)\n",
    "        return image, label\n"
   ],
   "id": "7436303e556fe02e",
   "outputs": [],
   "execution_count": 5
  },
  {
   "metadata": {
    "jupyter": {
     "is_executing": true
    },
    "ExecuteTime": {
     "start_time": "2025-04-24T07:34:34.566833Z"
    }
   },
   "cell_type": "code",
   "source": [
    "import torch\n",
    "from torchvision import transforms\n",
    "\n",
    "IMG_SIZE = 224\n",
    "BATCH_SIZE = 32\n",
    "\n",
    "transform = transforms.Compose([\n",
    "    transforms.Resize((IMG_SIZE, IMG_SIZE)),\n",
    "    transforms.ToTensor()\n",
    "])\n",
    "\n",
    "\n",
    "train_set = ISICDataset(csv_path=TRAIN_LABELS_DIR, img_dir=TRAIN_IMG_DIR, transform=transform)\n",
    "train_loader = DataLoader(train_set, batch_size=BATCH_SIZE, shuffle=True, num_workers=8)\n",
    "\n",
    "# === Test One Batch ===\n",
    "images, labels = next(iter(train_loader))\n",
    "print(\"Batch images shape:\", images.shape)\n",
    "print(\"Batch labels:\", labels[:8].tolist())\n"
   ],
   "id": "8be4dc41610bcce8",
   "outputs": [],
   "execution_count": null
  },
  {
   "metadata": {},
   "cell_type": "code",
   "outputs": [],
   "execution_count": null,
   "source": "",
   "id": "ace18c667f8c64bd"
  }
 ],
 "metadata": {
  "kernelspec": {
   "display_name": "Python 3",
   "language": "python",
   "name": "python3"
  },
  "language_info": {
   "codemirror_mode": {
    "name": "ipython",
    "version": 2
   },
   "file_extension": ".py",
   "mimetype": "text/x-python",
   "name": "python",
   "nbconvert_exporter": "python",
   "pygments_lexer": "ipython2",
   "version": "2.7.6"
  }
 },
 "nbformat": 4,
 "nbformat_minor": 5
}

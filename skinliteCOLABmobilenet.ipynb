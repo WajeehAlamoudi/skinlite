{
  "nbformat": 4,
  "nbformat_minor": 0,
  "metadata": {
    "colab": {
      "provenance": [],
      "gpuType": "A100",
      "authorship_tag": "ABX9TyOp7uFMjaG69Df2GTT7wicj",
      "include_colab_link": true
    },
    "kernelspec": {
      "name": "python3",
      "display_name": "Python 3"
    },
    "language_info": {
      "name": "python"
    },
    "accelerator": "GPU"
  },
  "cells": [
    {
      "cell_type": "markdown",
      "metadata": {
        "id": "view-in-github",
        "colab_type": "text"
      },
      "source": [
        "<a href=\"https://colab.research.google.com/github/WajeehAlamoudi/skinlite/blob/master/skinliteCOLABmobilenet.ipynb\" target=\"_parent\"><img src=\"https://colab.research.google.com/assets/colab-badge.svg\" alt=\"Open In Colab\"/></a>"
      ]
    },
    {
      "cell_type": "code",
      "execution_count": 2,
      "metadata": {
        "id": "l9vsspnGIeNx",
        "colab": {
          "base_uri": "https://localhost:8080/"
        },
        "outputId": "13419dc7-deac-421f-c79b-8f5e0c27132f"
      },
      "outputs": [
        {
          "output_type": "stream",
          "name": "stdout",
          "text": [
            "Mounted at /content/drive\n"
          ]
        }
      ],
      "source": [
        "from google.colab import drive\n",
        "drive.mount('/content/drive', force_remount=True)"
      ]
    },
    {
      "cell_type": "code",
      "source": [
        "import os\n",
        "\n",
        "DATASET_PATH = \"/content/drive/MyDrive/dataset\"\n",
        "\n",
        "TRAIN_IMG_DIR = os.path.join(DATASET_PATH, \"images/train\")\n",
        "TEST_IMG_DIR = os.path.join(DATASET_PATH, \"images/test\")\n",
        "VAL_IMG_DIR = os.path.join(DATASET_PATH, \"images/val\")\n",
        "\n",
        "TRAIN_LABELS_DIR = os.path.join(DATASET_PATH, \"labels/ISIC2018_Task3_Training_GroundTruth.csv\")\n",
        "TEST_LABELS_DIR = os.path.join(DATASET_PATH, \"labels/ISIC2018_Task3_Test_GroundTruth.csv\")\n",
        "VAL_LABELS_DIR = os.path.join(DATASET_PATH, \"labels/ISIC2018_Task3_Validation_GroundTruth.csv\")\n"
      ],
      "metadata": {
        "id": "-qyg5LQRxzdf"
      },
      "execution_count": 3,
      "outputs": []
    },
    {
      "cell_type": "code",
      "source": [
        "for path in [TRAIN_IMG_DIR, VAL_IMG_DIR, TEST_IMG_DIR, TRAIN_LABELS_DIR]:\n",
        "    print(f\"{path}: {'✅ Found' if os.path.exists(path) else '❌ Missing'}\")\n"
      ],
      "metadata": {
        "colab": {
          "base_uri": "https://localhost:8080/"
        },
        "id": "c9piMiexyA1c",
        "outputId": "3d532e54-1dec-40b5-db1a-1390e4d0b90a"
      },
      "execution_count": 4,
      "outputs": [
        {
          "output_type": "stream",
          "name": "stdout",
          "text": [
            "/content/drive/MyDrive/dataset/images/train: ✅ Found\n",
            "/content/drive/MyDrive/dataset/images/val: ✅ Found\n",
            "/content/drive/MyDrive/dataset/images/test: ✅ Found\n",
            "/content/drive/MyDrive/dataset/labels/ISIC2018_Task3_Training_GroundTruth.csv: ✅ Found\n"
          ]
        }
      ]
    },
    {
      "cell_type": "code",
      "source": [
        "from torch.utils.data import Dataset\n",
        "import os\n",
        "import pandas as pd\n",
        "from PIL import Image\n",
        "\n",
        "CLASS_NAMES = ['MEL', 'NV', 'BCC', 'AKIEC', 'BKL', 'DF', 'VASC']\n",
        "LABEL_MAP = {name: idx for idx, name in enumerate(CLASS_NAMES)}\n",
        "\n",
        "CLASS_MULTIPLIER = {\n",
        "    6: 5,   # VASC\n",
        "    5: 5,   # DF\n",
        "    4: 0,   # BKL\n",
        "    3: 3,   # AKIEC\n",
        "    2: 2,   # BCC\n",
        "    1: -2,  # NV (downsample)\n",
        "    0: 3    # MEL\n",
        "}\n",
        "\n",
        "class ISICDataset(Dataset):\n",
        "    def __init__(self, csv_path, img_dir, set_state, transform=None):\n",
        "        self.transform = transform\n",
        "        self.set_state = set_state.lower()\n",
        "        self.img_dir = img_dir\n",
        "\n",
        "        df = pd.read_csv(csv_path)\n",
        "        base_samples = []\n",
        "        for _, row in df.iterrows():\n",
        "            image_id = row['image']\n",
        "            label_name = row[CLASS_NAMES].astype(int).idxmax()\n",
        "            label = LABEL_MAP[label_name]\n",
        "            base_samples.append((f\"{image_id}.jpg\", label))\n",
        "\n",
        "        # === Expand or reduce samples for training\n",
        "        if self.set_state == 'train':\n",
        "            class_img_dict = {}\n",
        "            for path, label in base_samples:\n",
        "                class_img_dict.setdefault(label, []).append(path)\n",
        "\n",
        "            expanded = []\n",
        "            for label, paths in class_img_dict.items():\n",
        "                multiplier = CLASS_MULTIPLIER.get(label, 1)\n",
        "\n",
        "                if multiplier > 0:\n",
        "                    expanded.extend([(path, label) for path in paths for _ in range(multiplier)])\n",
        "                elif multiplier < 0:\n",
        "                    keep_every = abs(multiplier)\n",
        "                    reduced = paths[::keep_every]\n",
        "                    expanded.extend([(path, label) for path in reduced])\n",
        "                else:\n",
        "                    expanded.extend([(path, label) for path in paths])\n",
        "\n",
        "            self.samples = expanded\n",
        "\n",
        "        elif self.set_state in ['val', 'test']:\n",
        "            self.samples = base_samples\n",
        "        else:\n",
        "            raise ValueError(\"Invalid set_state. Choose from ['train', 'val', 'test']\")\n",
        "\n",
        "    def __len__(self):\n",
        "        return len(self.samples)\n",
        "\n",
        "    def __getitem__(self, idx):\n",
        "        img_name, label = self.samples[idx]\n",
        "        img_path = os.path.join(self.img_dir, img_name)\n",
        "        image = Image.open(img_path).convert(\"RGB\")\n",
        "        if self.transform:\n",
        "            image = self.transform(image)\n",
        "        return image, label\n"
      ],
      "metadata": {
        "id": "jRAlLudDyaYX"
      },
      "execution_count": 54,
      "outputs": []
    },
    {
      "cell_type": "code",
      "source": [
        "import torch\n",
        "import torchvision.transforms as transforms\n",
        "import numpy as np\n",
        "import random\n",
        "from PIL import ImageEnhance\n",
        "\n",
        "class AddGaussianNoiseToRandomPixels:\n",
        "    def __init__(self, noise_level=0.2, p=0.5):\n",
        "        self.noise_level = noise_level\n",
        "        self.p = p\n",
        "\n",
        "    def __call__(self, tensor):\n",
        "        if random.random() < self.p:\n",
        "            c, h, w = tensor.shape\n",
        "            num_noisy_pixels = int(h * w * 0.1)\n",
        "            for _ in range(num_noisy_pixels):\n",
        "                i = random.randint(0, h - 1)\n",
        "                j = random.randint(0, w - 1)\n",
        "                tensor[:, i, j] += torch.randn(c) * self.noise_level\n",
        "            tensor = torch.clamp(tensor, 0.0, 1.0)\n",
        "        return tensor\n",
        "\n",
        "\n",
        "class RandomFIXEDRotation:\n",
        "    def __init__(self, angles=(0, 90, 180, 270), p=0.5):\n",
        "        self.angles = angles\n",
        "        self.p = p\n",
        "\n",
        "    def __call__(self, img):\n",
        "        if random.random() < self.p:\n",
        "            return transforms.functional.rotate(img, random.choice(self.angles))\n",
        "        return img\n",
        "\n",
        "\n",
        "class ColorConstancyTransform:\n",
        "    def __init__(self, power=6, gamma=1.0):\n",
        "        self.power = power\n",
        "        self.gamma = gamma\n",
        "\n",
        "    def __call__(self, tensor):\n",
        "        img = tensor.numpy()\n",
        "        img = img ** (1 / self.gamma)\n",
        "        norm = np.power(np.sum(np.power(img, self.power), axis=(1, 2), keepdims=True), 1 / self.power)\n",
        "        img = img / norm\n",
        "        img = np.clip(img, 0, 1)\n",
        "        return torch.tensor(img, dtype=torch.float32)\n"
      ],
      "metadata": {
        "id": "7sZM_KtmAux7"
      },
      "execution_count": 55,
      "outputs": []
    },
    {
      "cell_type": "code",
      "source": [
        "output_size = 224\n",
        "long_side = 280\n",
        "\n",
        "train_transform = transforms.Compose([\n",
        "    transforms.Resize((output_size, long_side)),\n",
        "    transforms.CenterCrop((output_size, output_size)),\n",
        "    transforms.RandomHorizontalFlip(),\n",
        "    transforms.RandomVerticalFlip(),\n",
        "    RandomFIXEDRotation(),\n",
        "    transforms.ColorJitter(brightness=(0.8, 1.1)),\n",
        "    transforms.ColorJitter(contrast=(0.8, 1.1)),\n",
        "    transforms.ColorJitter(saturation=(0.8, 1.1)),\n",
        "    transforms.ToTensor(),\n",
        "\n",
        "])\n",
        "\n",
        "val_transform = transforms.Compose([\n",
        "    transforms.Resize((output_size, long_side)),\n",
        "    transforms.CenterCrop((output_size, output_size)),\n",
        "    transforms.ToTensor()\n",
        "])\n"
      ],
      "metadata": {
        "id": "D2cZiDrZA11l"
      },
      "execution_count": 56,
      "outputs": []
    },
    {
      "cell_type": "code",
      "source": [
        "from torch.utils.data import DataLoader\n",
        "from torchvision import transforms\n",
        "import matplotlib.pyplot as plt\n",
        "import torch\n",
        "\n",
        "\n",
        "train_set = ISICDataset(\n",
        "    csv_path=TRAIN_LABELS_DIR,\n",
        "    img_dir=TRAIN_IMG_DIR,\n",
        "    set_state='train',\n",
        "    transform=train_transform\n",
        ")\n",
        "\n",
        "train_loader = DataLoader(train_set, batch_size=32, shuffle=True, num_workers=4)\n",
        "\n",
        "\n",
        "# Test one batch\n",
        "images, labels = next(iter(train_loader))\n",
        "print(\"Image batch shape:\", images.shape)\n",
        "print(\"Label batch:\", labels.tolist())\n"
      ],
      "metadata": {
        "colab": {
          "base_uri": "https://localhost:8080/"
        },
        "id": "GhlZXwxlysey",
        "outputId": "801f9eb5-df67-4850-b5c8-d410796cc892"
      },
      "execution_count": 57,
      "outputs": [
        {
          "output_type": "stream",
          "name": "stdout",
          "text": [
            "Image batch shape: torch.Size([32, 3, 224, 224])\n",
            "Label batch: [5, 0, 1, 0, 1, 4, 3, 1, 1, 3, 1, 1, 3, 1, 1, 0, 5, 3, 0, 2, 4, 0, 0, 3, 1, 0, 4, 4, 0, 1, 0, 0]\n"
          ]
        }
      ]
    },
    {
      "cell_type": "code",
      "source": [
        "from collections import Counter\n",
        "import torch\n",
        "\n",
        "def compute_loader_class_weights(dataset, num_classes=7):\n",
        "    label_counts = Counter(label for _, label in dataset.samples)\n",
        "    total = sum(label_counts.values())\n",
        "    weights = [total / (num_classes * label_counts.get(i, 1)) for i in range(num_classes)]\n",
        "    print(weights)\n",
        "    normed = torch.tensor(weights, dtype=torch.float32)\n",
        "    print(normed)\n",
        "    return normed / normed.sum()\n",
        "\n"
      ],
      "metadata": {
        "id": "_hLEjA-F7_JS"
      },
      "execution_count": 58,
      "outputs": []
    },
    {
      "cell_type": "code",
      "source": [
        "device = torch.device(\"cuda\" if torch.cuda.is_available() else \"cpu\")\n",
        "from torch import nn\n",
        "\n",
        "class_weights = compute_loader_class_weights(train_set).to(device)\n",
        "\n",
        "criterion = nn.CrossEntropyLoss(weight=class_weights)\n",
        "\n"
      ],
      "metadata": {
        "colab": {
          "base_uri": "https://localhost:8080/"
        },
        "id": "SOGJJiLK1EDJ",
        "outputId": "528754a4-a775-4380-ab5d-922994590ae7"
      },
      "execution_count": 59,
      "outputs": [
        {
          "output_type": "stream",
          "name": "stdout",
          "text": [
            "[0.4742651777692209, 0.4722849473818755, 1.5404391328515843, 1.6142420270860638, 1.4409203171714546, 2.7540372670807454, 2.2303822937625752]\n",
            "tensor([0.4743, 0.4723, 1.5404, 1.6142, 1.4409, 2.7540, 2.2304])\n"
          ]
        }
      ]
    },
    {
      "cell_type": "code",
      "source": [
        "import torch.nn as nn\n",
        "from torchvision import models\n",
        "\n",
        "class MobileNetClassifier(nn.Module):\n",
        "    def __init__(self, num_classes=7):\n",
        "        super(MobileNetClassifier, self).__init__()\n",
        "        base = models.mobilenet_v2(pretrained=True)\n",
        "        self.features = base.features\n",
        "        self.pool = nn.AdaptiveAvgPool2d(1)\n",
        "        self.classifier = nn.Sequential(\n",
        "            nn.Flatten(),\n",
        "            nn.Dropout(0.3),\n",
        "            nn.Linear(1280, num_classes)\n",
        "        )\n",
        "\n",
        "    def forward(self, x):\n",
        "        x = self.features(x)\n",
        "        x = self.pool(x)\n",
        "        x = self.classifier(x)\n",
        "        return x\n"
      ],
      "metadata": {
        "id": "r_YMiA6Z4Vwe"
      },
      "execution_count": 60,
      "outputs": []
    },
    {
      "cell_type": "code",
      "source": [
        "\n",
        "model = MobileNetClassifier(num_classes=7).to(device)\n",
        "optimizer = torch.optim.Adam(model.parameters(), lr=1e-3)\n"
      ],
      "metadata": {
        "colab": {
          "base_uri": "https://localhost:8080/"
        },
        "id": "7fAVnvNZz4Yl",
        "outputId": "8312bdda-0f8a-4d7a-a276-333e432ad931"
      },
      "execution_count": 61,
      "outputs": [
        {
          "output_type": "stream",
          "name": "stderr",
          "text": [
            "/usr/local/lib/python3.11/dist-packages/torchvision/models/_utils.py:208: UserWarning: The parameter 'pretrained' is deprecated since 0.13 and may be removed in the future, please use 'weights' instead.\n",
            "  warnings.warn(\n",
            "/usr/local/lib/python3.11/dist-packages/torchvision/models/_utils.py:223: UserWarning: Arguments other than a weight enum or `None` for 'weights' are deprecated since 0.13 and may be removed in the future. The current behavior is equivalent to passing `weights=MobileNet_V2_Weights.IMAGENET1K_V1`. You can also use `weights=MobileNet_V2_Weights.DEFAULT` to get the most up-to-date weights.\n",
            "  warnings.warn(msg)\n"
          ]
        }
      ]
    },
    {
      "cell_type": "code",
      "source": [
        "EPOCHS = 10\n",
        "train_losses = []\n",
        "\n",
        "model.train()\n",
        "for epoch in range(1, EPOCHS + 1):\n",
        "    running_loss = 0\n",
        "    correct, total = 0, 0\n",
        "\n",
        "    for images, labels in train_loader:\n",
        "        images, labels = images.to(device), labels.to(device)\n",
        "\n",
        "        outputs = model(images)\n",
        "        #print(\"Capsule norm mean:\", outputs.norm(dim=1).mean().item())\n",
        "        loss = criterion(outputs, labels)\n",
        "\n",
        "        optimizer.zero_grad()\n",
        "        loss.backward()\n",
        "        optimizer.step()\n",
        "        running_loss += loss.item()\n",
        "\n",
        "        _, predicted = outputs.max(1)\n",
        "        correct += (predicted == labels).sum().item()\n",
        "        total += labels.size(0)\n",
        "\n",
        "    avg_loss = running_loss / len(train_loader)\n",
        "    acc = correct / total\n",
        "    train_losses.append(avg_loss)\n",
        "\n",
        "    print(f\"Epoch {epoch} | Train Loss: {avg_loss:.4f} | Accuracy: {acc:.4f}\")\n"
      ],
      "metadata": {
        "colab": {
          "base_uri": "https://localhost:8080/"
        },
        "id": "5m2dtnLpz-NN",
        "outputId": "9507bb37-1b79-4fbd-9580-df08a1d8e3b8"
      },
      "execution_count": 62,
      "outputs": [
        {
          "output_type": "stream",
          "name": "stdout",
          "text": [
            "Epoch 1 | Train Loss: 1.0384 | Accuracy: 0.5862\n",
            "Epoch 2 | Train Loss: 0.7973 | Accuracy: 0.6636\n",
            "Epoch 3 | Train Loss: 0.6789 | Accuracy: 0.6978\n",
            "Epoch 4 | Train Loss: 0.6458 | Accuracy: 0.7092\n",
            "Epoch 5 | Train Loss: 0.5870 | Accuracy: 0.7343\n",
            "Epoch 6 | Train Loss: 0.5683 | Accuracy: 0.7374\n",
            "Epoch 7 | Train Loss: 0.5079 | Accuracy: 0.7587\n",
            "Epoch 8 | Train Loss: 0.4975 | Accuracy: 0.7581\n",
            "Epoch 9 | Train Loss: 0.4471 | Accuracy: 0.7825\n",
            "Epoch 10 | Train Loss: 0.4569 | Accuracy: 0.7801\n"
          ]
        }
      ]
    },
    {
      "cell_type": "code",
      "source": [
        "import matplotlib.pyplot as plt\n",
        "\n",
        "plt.plot(train_losses, label=\"Train Loss\")\n",
        "plt.title(\"MobileNetV2 Training Loss\")\n",
        "plt.xlabel(\"Epoch\")\n",
        "plt.ylabel(\"Loss\")\n",
        "plt.legend()\n",
        "plt.grid(True)\n",
        "plt.show()\n"
      ],
      "metadata": {
        "colab": {
          "base_uri": "https://localhost:8080/",
          "height": 472
        },
        "collapsed": true,
        "id": "6ZWFERTa0Ag6",
        "outputId": "faa0f146-337e-4df8-fa27-e00f30874def"
      },
      "execution_count": 17,
      "outputs": [
        {
          "output_type": "display_data",
          "data": {
            "text/plain": [
              "<Figure size 640x480 with 1 Axes>"
            ],
            "image/png": "[encoded data removed]"
          },
          "metadata": {}
        }
      ]
    },
    {
      "cell_type": "code",
      "source": [
        "import matplotlib.pyplot as plt\n",
        "\n",
        "plt.plot(train_losses, label=\"Train Loss\")\n",
        "plt.title(\"MobileNetV2 Training Loss\")\n",
        "plt.xlabel(\"Epoch\")\n",
        "plt.ylabel(\"Loss\")\n",
        "plt.legend()\n",
        "plt.grid(True)\n",
        "plt.show()\n"
      ],
      "metadata": {
        "colab": {
          "base_uri": "https://localhost:8080/",
          "height": 472
        },
        "id": "VMx7iaxk_VXQ",
        "outputId": "fb83f514-2795-44f7-f0bb-8e3ad3b4d1eb"
      },
      "execution_count": 64,
      "outputs": [
        {
          "output_type": "display_data",
          "data": {
            "text/plain": [
              "<Figure size 640x480 with 1 Axes>"
            ],
            "image/png": "[encoded data removed]"
          },
          "metadata": {}
        }
      ]
    },
    {
      "cell_type": "code",
      "source": [
        "val_set = ISICDataset(\n",
        "    csv_path=VAL_LABELS_DIR,\n",
        "    img_dir=VAL_IMG_DIR,\n",
        "    transform=val_transform,\n",
        "    set_state='val'\n",
        ")\n",
        "\n",
        "val_loader = DataLoader(val_set, batch_size=32, shuffle=False, num_workers=2)\n"
      ],
      "metadata": {
        "id": "zZlKzL8y1NCJ"
      },
      "execution_count": 18,
      "outputs": []
    },
    {
      "cell_type": "code",
      "source": [
        "from sklearn.metrics import accuracy_score, f1_score, confusion_matrix, ConfusionMatrixDisplay\n",
        "import matplotlib.pyplot as plt\n",
        "\n",
        "def evaluate_model(model, val_loader):\n",
        "    model.eval()\n",
        "    all_preds, all_labels = [], []\n",
        "\n",
        "    with torch.no_grad():\n",
        "        for images, labels in val_loader:\n",
        "            images = images.to(device)\n",
        "            outputs = model(images)\n",
        "            preds = outputs.argmax(dim=1).cpu().numpy()\n",
        "            all_preds.extend(preds)\n",
        "            all_labels.extend(labels.numpy())\n",
        "\n",
        "    acc = accuracy_score(all_labels, all_preds)\n",
        "    f1 = f1_score(all_labels, all_preds, average='macro')\n",
        "\n",
        "    print(f\"✅ Validation Accuracy: {acc:.4f}\")\n",
        "    print(f\"✅ Validation Macro F1: {f1:.4f}\")\n",
        "\n",
        "    cm = confusion_matrix(all_labels, all_preds)\n",
        "    disp = ConfusionMatrixDisplay(cm, display_labels=CLASS_NAMES)\n",
        "    disp.plot(cmap='Blues', xticks_rotation=45)\n",
        "    plt.title(\"Validation Confusion Matrix\")\n",
        "    plt.show()\n"
      ],
      "metadata": {
        "id": "WZ5en6cA2ayB"
      },
      "execution_count": 19,
      "outputs": []
    },
    {
      "cell_type": "code",
      "source": [
        "evaluate_model(model, val_loader)"
      ],
      "metadata": {
        "colab": {
          "base_uri": "https://localhost:8080/",
          "height": 532
        },
        "id": "kVvhulCU2kFC",
        "outputId": "11d8f4fc-0a25-4a5f-d88f-b4b5b3e60f7e"
      },
      "execution_count": 63,
      "outputs": [
        {
          "output_type": "stream",
          "name": "stdout",
          "text": [
            "✅ Validation Accuracy: 0.7565\n",
            "✅ Validation Macro F1: 0.6231\n"
          ]
        },
        {
          "output_type": "display_data",
          "data": {
            "text/plain": [
              "<Figure size 640x480 with 2 Axes>"
            ],
            "image/png": "[encoded data removed]"
          },
          "metadata": {}
        }
      ]
    },
    {
      "cell_type": "code",
      "source": [],
      "metadata": {
        "id": "CclkFkwJ_euM"
      },
      "execution_count": null,
      "outputs": []
    }
  ]
}